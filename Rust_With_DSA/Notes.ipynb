{
 "cells": [
  {
   "cell_type": "markdown",
   "metadata": {},
   "source": [
    "## **Resources**\n",
    "<hr>\n",
    "\n",
    "[Piyush Garg](https://www.youtube.com/playlist?list=PLinedj3B30sAnCkwmMb5Ape5Ibqp0R5bP)\n",
    "\n",
    "[Harkirat_Best](https://www.youtube.com/watch?v=qP7LzZqGh30&list=PLVKLWop9wWA8ioobmUlgbij0eUsQ5q-Jg)\n",
    "\n",
    "[Complete_Rust_Harkirat](https://www.youtube.com/watch?v=joCFbTJt0o0)"
   ]
  }
 ],
 "metadata": {
  "language_info": {
   "name": "python"
  }
 },
 "nbformat": 4,
 "nbformat_minor": 2
}
